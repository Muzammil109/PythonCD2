{
 "cells": [
  {
   "cell_type": "code",
   "execution_count": null,
   "id": "47bc0446-df77-410c-818c-2d869ae50d1c",
   "metadata": {},
   "outputs": [],
   "source": [
    "# String methods"
   ]
  },
  {
   "cell_type": "code",
   "execution_count": null,
   "id": "58843d26-51b1-4101-bff4-aa9ca344053b",
   "metadata": {},
   "outputs": [],
   "source": [
    "# type method"
   ]
  },
  {
   "cell_type": "code",
   "execution_count": 22,
   "id": "2a167d4d-10a6-4eaa-b79a-84bd3f09b4dd",
   "metadata": {},
   "outputs": [
    {
     "data": {
      "text/plain": [
       "str"
      ]
     },
     "execution_count": 22,
     "metadata": {},
     "output_type": "execute_result"
    }
   ],
   "source": [
    "type('muzammil')\n"
   ]
  },
  {
   "cell_type": "code",
   "execution_count": null,
   "id": "ca12521b-3b01-4f0e-a34d-e545a646bac1",
   "metadata": {},
   "outputs": [],
   "source": [
    "# .title method"
   ]
  },
  {
   "cell_type": "code",
   "execution_count": 24,
   "id": "0c046067-2e43-47c4-88c5-35429996f72d",
   "metadata": {},
   "outputs": [
    {
     "name": "stdout",
     "output_type": "stream",
     "text": [
      "Mohammad Muzammil\n"
     ]
    }
   ],
   "source": [
    "fullname = \"mohammad muzammil\"\n",
    "print(fullname.title())"
   ]
  },
  {
   "cell_type": "code",
   "execution_count": null,
   "id": "e0abb535-2738-4303-95c4-94ebc5ea62f4",
   "metadata": {},
   "outputs": [],
   "source": [
    "# .upper method"
   ]
  },
  {
   "cell_type": "code",
   "execution_count": 26,
   "id": "c8c72b0d-02cf-46cf-af99-9c7989ae5897",
   "metadata": {},
   "outputs": [
    {
     "name": "stdout",
     "output_type": "stream",
     "text": [
      "MOHAMMAD MUZAMMIL\n"
     ]
    }
   ],
   "source": [
    "name = \"mohammad muzammil\"\n",
    "print(name.upper())"
   ]
  },
  {
   "cell_type": "code",
   "execution_count": null,
   "id": "582d9697-33f6-4551-b1e8-74da9de58bb8",
   "metadata": {},
   "outputs": [],
   "source": [
    "# .lower method"
   ]
  },
  {
   "cell_type": "code",
   "execution_count": 28,
   "id": "abdaf5e7-848a-456f-a733-1ced79a15a50",
   "metadata": {},
   "outputs": [
    {
     "name": "stdout",
     "output_type": "stream",
     "text": [
      "mohammad muzammil\n"
     ]
    }
   ],
   "source": [
    "name = \"MOHAMMAD MUZAMMIL\"\n",
    "print(name.lower())"
   ]
  },
  {
   "cell_type": "code",
   "execution_count": null,
   "id": "8a5d2811-062a-412d-8c9c-62dbe4955952",
   "metadata": {},
   "outputs": [],
   "source": []
  },
  {
   "cell_type": "code",
   "execution_count": null,
   "id": "3a6cf4bb-6834-4c2f-ad8a-681561534bd3",
   "metadata": {},
   "outputs": [],
   "source": []
  },
  {
   "cell_type": "code",
   "execution_count": null,
   "id": "bb50777d-ed76-4e2b-9818-468bcaf6653e",
   "metadata": {},
   "outputs": [],
   "source": []
  }
 ],
 "metadata": {
  "kernelspec": {
   "display_name": "Python 3 (ipykernel)",
   "language": "python",
   "name": "python3"
  },
  "language_info": {
   "codemirror_mode": {
    "name": "ipython",
    "version": 3
   },
   "file_extension": ".py",
   "mimetype": "text/x-python",
   "name": "python",
   "nbconvert_exporter": "python",
   "pygments_lexer": "ipython3",
   "version": "3.12.4"
  }
 },
 "nbformat": 4,
 "nbformat_minor": 5
}
