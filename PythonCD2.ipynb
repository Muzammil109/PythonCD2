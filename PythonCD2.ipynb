{
 "cells": [
  {
   "cell_type": "code",
   "execution_count": null,
   "id": "3a47abdd-2cb7-4662-bead-1aa71b9e7796",
   "metadata": {},
   "outputs": [],
   "source": [
    "##Examples of Variables"
   ]
  },
  {
   "cell_type": "code",
   "execution_count": 1,
   "id": "63a6ea31-298c-4c9b-8363-8fb8db62cb08",
   "metadata": {},
   "outputs": [
    {
     "name": "stdout",
     "output_type": "stream",
     "text": [
      "Muzammil\n"
     ]
    }
   ],
   "source": [
    "firstname = \"Muzammil\"\n",
    "print(firstname)"
   ]
  },
  {
   "cell_type": "code",
   "execution_count": null,
   "id": "766952a5-fbc8-4f71-84d1-cb5a5434fdd4",
   "metadata": {},
   "outputs": [],
   "source": [
    "##Declaring variables with space"
   ]
  },
  {
   "cell_type": "code",
   "execution_count": 5,
   "id": "e2219e37-fa51-4117-b5e3-f0452e460e61",
   "metadata": {},
   "outputs": [
    {
     "name": "stdout",
     "output_type": "stream",
     "text": [
      "Muzammil\n"
     ]
    }
   ],
   "source": [
    "f_name = \"Muzammil\"\n",
    "print(f_name)"
   ]
  },
  {
   "cell_type": "code",
   "execution_count": null,
   "id": "a2212a75-721e-47c2-a198-bae36f35b222",
   "metadata": {},
   "outputs": [],
   "source": [
    "##Declaring variables with numbers"
   ]
  },
  {
   "cell_type": "code",
   "execution_count": 7,
   "id": "8ac799dc-b527-421e-b720-143da8a879be",
   "metadata": {},
   "outputs": [
    {
     "name": "stdout",
     "output_type": "stream",
     "text": [
      "Muzammil\n"
     ]
    }
   ],
   "source": [
    "name1 = \"Muzammil\"\n",
    "print(name1)"
   ]
  },
  {
   "cell_type": "code",
   "execution_count": null,
   "id": "38b15e97-0eb1-47d3-b262-5f2186642346",
   "metadata": {},
   "outputs": [],
   "source": []
  }
 ],
 "metadata": {
  "kernelspec": {
   "display_name": "Python 3 (ipykernel)",
   "language": "python",
   "name": "python3"
  },
  "language_info": {
   "codemirror_mode": {
    "name": "ipython",
    "version": 3
   },
   "file_extension": ".py",
   "mimetype": "text/x-python",
   "name": "python",
   "nbconvert_exporter": "python",
   "pygments_lexer": "ipython3",
   "version": "3.12.4"
  }
 },
 "nbformat": 4,
 "nbformat_minor": 5
}
