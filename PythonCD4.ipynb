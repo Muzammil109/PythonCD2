{
 "cells": [
  {
   "cell_type": "code",
   "execution_count": null,
   "id": "33786086-3aac-474c-873a-9f723e64f653",
   "metadata": {},
   "outputs": [],
   "source": [
    "# Introduction to F strings"
   ]
  },
  {
   "cell_type": "code",
   "execution_count": 35,
   "id": "c722e01d-6b2c-4241-8c0e-9b01a31e00ca",
   "metadata": {},
   "outputs": [],
   "source": [
    "fullname = \"mohammad muzammil\""
   ]
  },
  {
   "cell_type": "code",
   "execution_count": 41,
   "id": "f2a695e5-3aa7-41c8-a1a8-3bd83eb03cbb",
   "metadata": {},
   "outputs": [
    {
     "name": "stdout",
     "output_type": "stream",
     "text": [
      "keep up the good work mohammad muzammil\n"
     ]
    }
   ],
   "source": [
    "message = f\"keep up the good work {fullname}\"\n",
    "print(message)"
   ]
  },
  {
   "cell_type": "code",
   "execution_count": 49,
   "id": "a3d44494-f4c6-423e-9f68-5ee5fd658fd4",
   "metadata": {},
   "outputs": [
    {
     "name": "stdout",
     "output_type": "stream",
     "text": [
      "keep up the good work Mohammad Muzammil\n"
     ]
    }
   ],
   "source": [
    "message = f\"keep up the good work {fullname.title()}\"\n",
    "print(message)"
   ]
  },
  {
   "cell_type": "code",
   "execution_count": 4,
   "id": "574b24ad-6be6-470e-995c-77eb1d9ae133",
   "metadata": {},
   "outputs": [
    {
     "name": "stdout",
     "output_type": "stream",
     "text": [
      "Mohammad Muzammil\n"
     ]
    }
   ],
   "source": [
    "firstname = \"Mohammad\"\n",
    "lastname = \"Muzammil\"\n",
    "fullname = f'{firstname} {lastname}'\n",
    "print(fullname)"
   ]
  },
  {
   "cell_type": "code",
   "execution_count": null,
   "id": "65e4bd0e-162b-416c-a993-e1a1f62f416e",
   "metadata": {},
   "outputs": [],
   "source": [
    "# Adding whitespaces to strings "
   ]
  },
  {
   "cell_type": "code",
   "execution_count": 6,
   "id": "9d868519-6c91-4d3a-aa59-f47d2d101607",
   "metadata": {},
   "outputs": [
    {
     "name": "stdout",
     "output_type": "stream",
     "text": [
      "favourite_programming_language:\n",
      "pyhton\n",
      "html\n",
      "css\n",
      "javascript\n",
      "react\n"
     ]
    }
   ],
   "source": [
    "print(\"favourite_programming_language:\\npyhton\\nhtml\\ncss\\njavascript\\nreact\")"
   ]
  },
  {
   "cell_type": "code",
   "execution_count": null,
   "id": "105ecb30-41da-4811-9384-655125c74aaf",
   "metadata": {},
   "outputs": [],
   "source": [
    "# tab delimeters"
   ]
  },
  {
   "cell_type": "code",
   "execution_count": 10,
   "id": "fa8bb37d-5232-46c8-9d7d-298c1c894220",
   "metadata": {},
   "outputs": [
    {
     "name": "stdout",
     "output_type": "stream",
     "text": [
      "favourite_programming_languages:\n",
      "\tpython\n",
      "\treact\n",
      "\tjavascript\n"
     ]
    }
   ],
   "source": [
    "print(\"favourite_programming_languages:\\n\\tpython\\n\\treact\\n\\tjavascript\")"
   ]
  },
  {
   "cell_type": "code",
   "execution_count": null,
   "id": "bfaa5c34-2fd0-4539-8531-a1cc6a205efb",
   "metadata": {},
   "outputs": [],
   "source": [
    "# Removing spaces from the Strings"
   ]
  },
  {
   "cell_type": "code",
   "execution_count": 29,
   "id": "7f7cf683-3a21-44ef-90cd-d9e8c3e92ffe",
   "metadata": {},
   "outputs": [
    {
     "name": "stdout",
     "output_type": "stream",
     "text": [
      "Muzammil\n"
     ]
    }
   ],
   "source": [
    "name1 = \"Muzammil\"      # no gap\n",
    "print(name1)"
   ]
  },
  {
   "cell_type": "code",
   "execution_count": 27,
   "id": "20a50837-084c-49a9-ae53-2d25042dc108",
   "metadata": {},
   "outputs": [
    {
     "name": "stdout",
     "output_type": "stream",
     "text": [
      " Muzammil\n"
     ]
    }
   ],
   "source": [
    "name2 = \" Muzammil\"     # GAP ON LEFT\n",
    "print(name2)"
   ]
  },
  {
   "cell_type": "code",
   "execution_count": 19,
   "id": "2d085017-cb09-4d81-84f3-251480d676d0",
   "metadata": {},
   "outputs": [
    {
     "name": "stdout",
     "output_type": "stream",
     "text": [
      "Muzammil  \n"
     ]
    }
   ],
   "source": [
    "name3 = \"Muzammil  \"    # Gap on right\n",
    "print(name3)"
   ]
  },
  {
   "cell_type": "code",
   "execution_count": 25,
   "id": "4fee4e4c-c392-4386-bf1d-4f0326493de0",
   "metadata": {},
   "outputs": [],
   "source": [
    "# Strip method"
   ]
  },
  {
   "cell_type": "code",
   "execution_count": 31,
   "id": "6b2ecad6-0885-4972-a114-70b242ef800d",
   "metadata": {},
   "outputs": [
    {
     "data": {
      "text/plain": [
       "'Muzammil'"
      ]
     },
     "execution_count": 31,
     "metadata": {},
     "output_type": "execute_result"
    }
   ],
   "source": [
    "name2.strip()"
   ]
  },
  {
   "cell_type": "code",
   "execution_count": null,
   "id": "9638527b-e9a0-4ebe-80ec-5528928b3955",
   "metadata": {},
   "outputs": [],
   "source": []
  },
  {
   "cell_type": "code",
   "execution_count": null,
   "id": "d4d42a39-8b56-4b20-b56c-fbdeb4c74625",
   "metadata": {},
   "outputs": [],
   "source": []
  }
 ],
 "metadata": {
  "kernelspec": {
   "display_name": "Python 3 (ipykernel)",
   "language": "python",
   "name": "python3"
  },
  "language_info": {
   "codemirror_mode": {
    "name": "ipython",
    "version": 3
   },
   "file_extension": ".py",
   "mimetype": "text/x-python",
   "name": "python",
   "nbconvert_exporter": "python",
   "pygments_lexer": "ipython3",
   "version": "3.12.4"
  }
 },
 "nbformat": 4,
 "nbformat_minor": 5
}
