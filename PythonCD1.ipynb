{
 "cells": [
  {
   "cell_type": "code",
   "execution_count": 1,
   "id": "ba7db7c1-d4c8-4ceb-92e7-23dd088a3c2c",
   "metadata": {},
   "outputs": [
    {
     "name": "stdout",
     "output_type": "stream",
     "text": [
      "Assalamualikum warahmatullah\n"
     ]
    }
   ],
   "source": [
    "print(\"Assalamualikum warahmatullah\")"
   ]
  },
  {
   "cell_type": "code",
   "execution_count": null,
   "id": "552ce17a-4e31-4322-8086-4baeed28a07f",
   "metadata": {},
   "outputs": [],
   "source": [
    "print(\"Suhan Allah\")"
   ]
  }
 ],
 "metadata": {
  "kernelspec": {
   "display_name": "Python 3 (ipykernel)",
   "language": "python",
   "name": "python3"
  },
  "language_info": {
   "codemirror_mode": {
    "name": "ipython",
    "version": 3
   },
   "file_extension": ".py",
   "mimetype": "text/x-python",
   "name": "python",
   "nbconvert_exporter": "python",
   "pygments_lexer": "ipython3",
   "version": "3.12.4"
  }
 },
 "nbformat": 4,
 "nbformat_minor": 5
}
